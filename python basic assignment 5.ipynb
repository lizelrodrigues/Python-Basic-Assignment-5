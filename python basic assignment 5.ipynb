{
 "cells": [
  {
   "cell_type": "code",
   "execution_count": null,
   "id": "bd9acc17",
   "metadata": {},
   "outputs": [],
   "source": [
    "#Python Basic Assignment 5"
   ]
  },
  {
   "cell_type": "markdown",
   "id": "e47af8a5",
   "metadata": {},
   "source": [
    "1.What does an empty dictionary's code look like?"
   ]
  },
  {
   "cell_type": "code",
   "execution_count": 1,
   "id": "7bd74496",
   "metadata": {},
   "outputs": [],
   "source": [
    "dict = {}             #empty dictionary - {}"
   ]
  },
  {
   "cell_type": "code",
   "execution_count": 2,
   "id": "505fed12",
   "metadata": {},
   "outputs": [
    {
     "data": {
      "text/plain": [
       "dict"
      ]
     },
     "execution_count": 2,
     "metadata": {},
     "output_type": "execute_result"
    }
   ],
   "source": [
    "type(dict)"
   ]
  },
  {
   "cell_type": "markdown",
   "id": "3e9156b5",
   "metadata": {},
   "source": [
    "2.What is the value of a dictionary value with the key 'foo' and the value 42?"
   ]
  },
  {
   "cell_type": "code",
   "execution_count": 3,
   "id": "ad261a1e",
   "metadata": {},
   "outputs": [
    {
     "data": {
      "text/plain": [
       "42"
      ]
     },
     "execution_count": 3,
     "metadata": {},
     "output_type": "execute_result"
    }
   ],
   "source": [
    "dict = {\"foo\":42}            # key - foo , value - 42\n",
    "dict[\"foo\"]"
   ]
  },
  {
   "cell_type": "markdown",
   "id": "65cddce7",
   "metadata": {},
   "source": [
    "3.What is the most significant distinction between a dictionary and a list?"
   ]
  },
  {
   "cell_type": "markdown",
   "id": "64b51efa",
   "metadata": {},
   "source": [
    "Dictionaries are unordered sets and the items in the list are ordered . Also the main difference is that items in dictionaries are accessed via keys and not via their position."
   ]
  },
  {
   "cell_type": "code",
   "execution_count": 4,
   "id": "6ff456b9",
   "metadata": {},
   "outputs": [],
   "source": [
    "dict1 = {\"key1\":\"value1\",\"key2\":\"value2\"}\n",
    "a=dict1[\"key2\"]\n",
    "\n",
    "list1 = [1,2,3,4,\"hello\",True]\n",
    "b=list1[3]"
   ]
  },
  {
   "cell_type": "code",
   "execution_count": 5,
   "id": "681c776e",
   "metadata": {},
   "outputs": [
    {
     "name": "stdout",
     "output_type": "stream",
     "text": [
      "In dictionary to see the value we call it by its keys name and not by the position: value2\n",
      "Lists are accessed by their position: 4\n"
     ]
    }
   ],
   "source": [
    "print(\"In dictionary to see the value we call it by its keys name and not by the position:\",a)    #value2 has key name key2\n",
    "print(\"Lists are accessed by their position:\",b)          #4 has position 3"
   ]
  },
  {
   "cell_type": "markdown",
   "id": "548d7ccb",
   "metadata": {},
   "source": [
    "4.What happens if you try to access spam['foo'] if spam is {'bar': 100}?"
   ]
  },
  {
   "cell_type": "code",
   "execution_count": null,
   "id": "ab485b43",
   "metadata": {},
   "outputs": [],
   "source": [
    "spam = {'bar':100}\n",
    "spam['foo']                   # we get an error since there is no key named 'foo'"
   ]
  },
  {
   "cell_type": "markdown",
   "id": "b1637f01",
   "metadata": {},
   "source": [
    "5.If a dictionary is stored in spam, what is the difference between the expressions 'cat' in spam and 'cat' in spam.keys()?"
   ]
  },
  {
   "cell_type": "markdown",
   "id": "62c0fada",
   "metadata": {},
   "source": [
    "If dictionary is stored in spam, there is no difference between the expressions 'cat' in spam and 'cat' in spam.keys() both operations checks whether there is key as 'cat' in dictionary."
   ]
  },
  {
   "cell_type": "code",
   "execution_count": 6,
   "id": "f632d334",
   "metadata": {},
   "outputs": [
    {
     "data": {
      "text/plain": [
       "dict_keys(['cat'])"
      ]
     },
     "execution_count": 6,
     "metadata": {},
     "output_type": "execute_result"
    }
   ],
   "source": [
    "spam = {\"cat\":23}     # here the cat is the key\n",
    "spam.keys()          #gives us the name of the key"
   ]
  },
  {
   "cell_type": "markdown",
   "id": "bfe1322f",
   "metadata": {},
   "source": [
    "6.If a dictionary is stored in spam, what is the difference between the expressions 'cat' in spam and 'cat' in spam.values()?"
   ]
  },
  {
   "cell_type": "markdown",
   "id": "47017953",
   "metadata": {},
   "source": [
    "'cat' in spam checks whether there is a key as 'cat' in the dictionary, while 'cat' in spam.values() checks whether there is a value 'cat' for one of the keys in dictionary."
   ]
  },
  {
   "cell_type": "code",
   "execution_count": 7,
   "id": "32f8a6b7",
   "metadata": {},
   "outputs": [
    {
     "data": {
      "text/plain": [
       "dict_values([23])"
      ]
     },
     "execution_count": 7,
     "metadata": {},
     "output_type": "execute_result"
    }
   ],
   "source": [
    "spam.values()          #gives us the value of the key"
   ]
  },
  {
   "cell_type": "markdown",
   "id": "6d08609b",
   "metadata": {},
   "source": [
    "7.What is a shortcut for the following code?"
   ]
  },
  {
   "cell_type": "code",
   "execution_count": 9,
   "id": "6e4d5239",
   "metadata": {},
   "outputs": [],
   "source": [
    "if 'color' not in spam:\n",
    "    spam['color'] = 'black'"
   ]
  },
  {
   "cell_type": "code",
   "execution_count": 10,
   "id": "58d0595a",
   "metadata": {},
   "outputs": [
    {
     "name": "stdout",
     "output_type": "stream",
     "text": [
      "{'cat': 23, 'color': 'black'}\n"
     ]
    }
   ],
   "source": [
    "print(spam)"
   ]
  },
  {
   "cell_type": "code",
   "execution_count": 11,
   "id": "fae4b18a",
   "metadata": {},
   "outputs": [
    {
     "data": {
      "text/plain": [
       "{'cat': 23, 'color': 'black'}"
      ]
     },
     "execution_count": 11,
     "metadata": {},
     "output_type": "execute_result"
    }
   ],
   "source": [
    "#shortcut\n",
    "spam.setdefault('color','black')\n",
    "spam"
   ]
  },
  {
   "cell_type": "markdown",
   "id": "a12eef82",
   "metadata": {},
   "source": [
    "8.How do you \"pretty print\" dictionary values using which module and function?"
   ]
  },
  {
   "cell_type": "code",
   "execution_count": 12,
   "id": "d459a64d",
   "metadata": {},
   "outputs": [
    {
     "name": "stdout",
     "output_type": "stream",
     "text": [
      "[{'geeta': 24, 'sita': 23},\n",
      " {23: 56, 'hello': 23, 'hi': 'bye'},\n",
      " {12: 45},\n",
      " {'ji': [2, 3, 45, 9]},\n",
      " {34: 56},\n",
      " {True: False},\n",
      " {(1+8j): 23}]\n"
     ]
    }
   ],
   "source": [
    "import pprint\n",
    "dict = [{\"sita\":23,\"geeta\":24},\n",
    "    {\"hi\":\"bye\",\"hello\":23,23:56},\n",
    "    {12:45},{\"ji\":[2,3,45,9]},\n",
    "    {34:56},{True:False},{1+8j:23}]\n",
    "\n",
    "pprint.pprint(dict)"
   ]
  },
  {
   "cell_type": "code",
   "execution_count": 13,
   "id": "00469abb",
   "metadata": {},
   "outputs": [
    {
     "name": "stdout",
     "output_type": "stream",
     "text": [
      "[{'sita': 23, 'geeta': 24}, {'hi': 'bye', 'hello': 23, 23: 56}, {12: 45}, {'ji': [2, 3, 45, 9]}, {34: 56}, {True: False}, {(1+8j): 23}]\n"
     ]
    }
   ],
   "source": [
    "print(dict)"
   ]
  }
 ],
 "metadata": {
  "kernelspec": {
   "display_name": "Python 3 (ipykernel)",
   "language": "python",
   "name": "python3"
  },
  "language_info": {
   "codemirror_mode": {
    "name": "ipython",
    "version": 3
   },
   "file_extension": ".py",
   "mimetype": "text/x-python",
   "name": "python",
   "nbconvert_exporter": "python",
   "pygments_lexer": "ipython3",
   "version": "3.9.7"
  }
 },
 "nbformat": 4,
 "nbformat_minor": 5
}
